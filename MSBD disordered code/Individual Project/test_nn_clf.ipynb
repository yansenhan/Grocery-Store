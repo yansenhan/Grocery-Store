{
 "cells": [
  {
   "cell_type": "markdown",
   "metadata": {},
   "source": [
    "https://medium.com/@rajatgupta310198/getting-started-with-neural-network-for-regression-and-tensorflow-58ad3bd75223"
   ]
  },
  {
   "cell_type": "code",
   "execution_count": 1,
   "metadata": {},
   "outputs": [
    {
     "name": "stderr",
     "output_type": "stream",
     "text": [
      "Using TensorFlow backend.\n"
     ]
    }
   ],
   "source": [
    "import keras\n",
    "from keras.datasets import mnist\n",
    "from keras.models import Sequential\n",
    "from keras.layers import Dense, Dropout, Flatten\n",
    "from keras.layers import Conv2D, MaxPooling2D\n",
    "import numpy as np"
   ]
  },
  {
   "cell_type": "code",
   "execution_count": 15,
   "metadata": {},
   "outputs": [
    {
     "name": "stdout",
     "output_type": "stream",
     "text": [
      "x_train shape: (60000, 28, 28, 1)\n",
      "60000 train samples\n",
      "10000 test samples\n"
     ]
    }
   ],
   "source": [
    "batch_size = 128\n",
    "num_classes = 10\n",
    "epochs = 12\n",
    "\n",
    "# input image dimensions\n",
    "img_rows, img_cols = 28, 28\n",
    "\n",
    "# the data, split between train and test sets\n",
    "(x_train, y_train), (x_test, y_test) = mnist.load_data()\n",
    "\n",
    "x_train = x_train.reshape(60000,28,28,1)\n",
    "x_test = x_test.reshape(10000,28,28,1)\n",
    "\n",
    "print('x_train shape:', x_train.shape)\n",
    "print(x_train.shape[0], 'train samples')\n",
    "print(x_test.shape[0], 'test samples')\n",
    "\n",
    "# convert class vectors to binary class matrices\n",
    "y_train = keras.utils.to_categorical(y_train, num_classes)\n",
    "y_test = keras.utils.to_categorical(y_test, num_classes)"
   ]
  },
  {
   "cell_type": "code",
   "execution_count": 13,
   "metadata": {},
   "outputs": [],
   "source": [
    "(x_train, y_train), (x_test, y_test) = mnist.load_data()"
   ]
  },
  {
   "cell_type": "code",
   "execution_count": 16,
   "metadata": {},
   "outputs": [
    {
     "data": {
      "text/plain": [
       "array([[0., 0., 0., ..., 0., 0., 0.],\n",
       "       [1., 0., 0., ..., 0., 0., 0.],\n",
       "       [0., 0., 0., ..., 0., 0., 0.],\n",
       "       ...,\n",
       "       [0., 0., 0., ..., 0., 0., 0.],\n",
       "       [0., 0., 0., ..., 0., 0., 0.],\n",
       "       [0., 0., 0., ..., 0., 1., 0.]], dtype=float32)"
      ]
     },
     "execution_count": 16,
     "metadata": {},
     "output_type": "execute_result"
    }
   ],
   "source": [
    "y_train"
   ]
  },
  {
   "cell_type": "code",
   "execution_count": 3,
   "metadata": {},
   "outputs": [],
   "source": [
    "model = Sequential()\n",
    "model.add(Conv2D(32, kernel_size=(3, 3),\n",
    "                 activation='relu',\n",
    "                 input_shape=(28,28,1)))\n",
    "model.add(Conv2D(64, (3, 3), activation='relu'))\n",
    "model.add(MaxPooling2D(pool_size=(2, 2)))\n",
    "model.add(Dropout(0.25))\n",
    "model.add(Flatten())\n",
    "model.add(Dense(128, activation='relu'))\n",
    "model.add(Dropout(0.5))\n",
    "model.add(Dense(num_classes, activation='softmax'))"
   ]
  },
  {
   "cell_type": "code",
   "execution_count": 4,
   "metadata": {},
   "outputs": [
    {
     "name": "stdout",
     "output_type": "stream",
     "text": [
      "Train on 60000 samples, validate on 10000 samples\n",
      "Epoch 1/12\n",
      "60000/60000 [==============================] - 379s 6ms/step - loss: 1.4397 - acc: 0.8527 - val_loss: 0.0603 - val_acc: 0.9808\n",
      "Epoch 2/12\n",
      "60000/60000 [==============================] - 377s 6ms/step - loss: 0.1152 - acc: 0.9672 - val_loss: 0.0479 - val_acc: 0.9837\n",
      "Epoch 3/12\n",
      "60000/60000 [==============================] - 389s 6ms/step - loss: 0.0839 - acc: 0.9759 - val_loss: 0.0407 - val_acc: 0.9866\n",
      "Epoch 4/12\n",
      "60000/60000 [==============================] - 5566s 93ms/step - loss: 0.0731 - acc: 0.9792 - val_loss: 0.0389 - val_acc: 0.9888\n",
      "Epoch 5/12\n",
      "60000/60000 [==============================] - 186s 3ms/step - loss: 0.0578 - acc: 0.9835 - val_loss: 0.0402 - val_acc: 0.9881\n",
      "Epoch 6/12\n",
      "60000/60000 [==============================] - 219s 4ms/step - loss: 0.0484 - acc: 0.9854 - val_loss: 0.0349 - val_acc: 0.9896\n",
      "Epoch 7/12\n",
      "60000/60000 [==============================] - 209s 3ms/step - loss: 0.0458 - acc: 0.9867 - val_loss: 0.0404 - val_acc: 0.9893\n",
      "Epoch 8/12\n",
      "60000/60000 [==============================] - 223s 4ms/step - loss: 0.0393 - acc: 0.9882 - val_loss: 0.0362 - val_acc: 0.9897\n",
      "Epoch 9/12\n",
      "60000/60000 [==============================] - 217s 4ms/step - loss: 0.0381 - acc: 0.9890 - val_loss: 0.0366 - val_acc: 0.9883\n",
      "Epoch 10/12\n",
      "60000/60000 [==============================] - 232s 4ms/step - loss: 0.0321 - acc: 0.9901 - val_loss: 0.0383 - val_acc: 0.9892\n",
      "Epoch 11/12\n",
      "60000/60000 [==============================] - 233s 4ms/step - loss: 0.0324 - acc: 0.9908 - val_loss: 0.0381 - val_acc: 0.9892\n",
      "Epoch 12/12\n",
      "60000/60000 [==============================] - 245s 4ms/step - loss: 0.0308 - acc: 0.9910 - val_loss: 0.0352 - val_acc: 0.9908\n",
      "Test loss: 0.03523233895194503\n",
      "Test accuracy: 0.9908\n"
     ]
    }
   ],
   "source": [
    "model.compile(loss=keras.losses.categorical_crossentropy,\n",
    "              optimizer=keras.optimizers.Adadelta(),\n",
    "              metrics=['accuracy'])\n",
    "\n",
    "model.fit(x_train, y_train,\n",
    "          batch_size=batch_size,\n",
    "          epochs=epochs,\n",
    "          verbose=1,\n",
    "          validation_data=(x_test, y_test))\n",
    "score = model.evaluate(x_test, y_test, verbose=0)\n",
    "print('Test loss:', score[0])\n",
    "print('Test accuracy:', score[1])"
   ]
  },
  {
   "cell_type": "code",
   "execution_count": null,
   "metadata": {},
   "outputs": [],
   "source": []
  }
 ],
 "metadata": {
  "kernelspec": {
   "display_name": "Python 3",
   "language": "python",
   "name": "python3"
  },
  "language_info": {
   "codemirror_mode": {
    "name": "ipython",
    "version": 3
   },
   "file_extension": ".py",
   "mimetype": "text/x-python",
   "name": "python",
   "nbconvert_exporter": "python",
   "pygments_lexer": "ipython3",
   "version": "3.6.6"
  }
 },
 "nbformat": 4,
 "nbformat_minor": 2
}
